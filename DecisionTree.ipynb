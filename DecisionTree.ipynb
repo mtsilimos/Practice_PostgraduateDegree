{
 "cells": [
  {
   "cell_type": "code",
   "execution_count": 10,
   "id": "d8b9fc3f",
   "metadata": {},
   "outputs": [
    {
     "name": "stdout",
     "output_type": "stream",
     "text": [
      "[0 0 2 0 0 1 0 0 2 2 0 2 0 1 2 2 0 0 1 1 2 0 2 1 1 2 2 0 2 0]\n",
      "[0 0 2 0 0 1 0 0 2 1 0 2 0 1 2 2 0 0 1 2 2 0 2 1 1 2 2 0 2 0]\n"
     ]
    }
   ],
   "source": [
    "from sklearn import datasets\n",
    "from sklearn.tree import DecisionTreeClassifier\n",
    "from sklearn.model_selection import train_test_split\n",
    "\n",
    "iris = datasets.load_iris()\n",
    "\n",
    "\n",
    "X=iris.data \n",
    "y=iris.target \n",
    "\n",
    "\n",
    "X_train, X_test, y_train, y_test = train_test_split(X, y, test_size=0.2)\n",
    "\n",
    "\n",
    "dt=DecisionTreeClassifier(max_depth=3)\n",
    "\n",
    "\n",
    "dt.fit(X_train,y_train)\n",
    "\n",
    "\n",
    "y_pred=dt.predict(X_test)\n",
    "\n",
    "\n",
    "print(y_test) \n",
    "print(y_pred) "
   ]
  },
  {
   "cell_type": "code",
   "execution_count": 11,
   "id": "4d4f7a0f",
   "metadata": {},
   "outputs": [
    {
     "name": "stdout",
     "output_type": "stream",
     "text": [
      "[[13  0  0]\n",
      " [ 0  5  1]\n",
      " [ 0  1 10]]\n",
      "0.9333333333333333\n"
     ]
    }
   ],
   "source": [
    "from sklearn.metrics import confusion_matrix\n",
    "from sklearn.metrics import classification_report\n",
    "from sklearn.metrics import accuracy_score\n",
    "\n",
    "print(confusion_matrix(y_test,y_pred))\n",
    "print(accuracy_score(y_test,y_pred))"
   ]
  },
  {
   "cell_type": "code",
   "execution_count": null,
   "id": "1491adda",
   "metadata": {},
   "outputs": [],
   "source": []
  }
 ],
 "metadata": {
  "kernelspec": {
   "display_name": "Python 3 (ipykernel)",
   "language": "python",
   "name": "python3"
  },
  "language_info": {
   "codemirror_mode": {
    "name": "ipython",
    "version": 3
   },
   "file_extension": ".py",
   "mimetype": "text/x-python",
   "name": "python",
   "nbconvert_exporter": "python",
   "pygments_lexer": "ipython3",
   "version": "3.7.3"
  }
 },
 "nbformat": 4,
 "nbformat_minor": 5
}
